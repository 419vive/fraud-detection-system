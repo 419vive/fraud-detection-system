{
  "cells": [
    {
      "cell_type": "raw",
      "metadata": {
        "vscode": {
          "languageId": "raw"
        }
      },
      "source": [
        "# IEEE-CIS 詐騙檢測 - 數據探索\n",
        "\n",
        "## 🎯 目標\n",
        "- 載入和檢查數據基本信息\n",
        "- 分析目標變數分佈 \n",
        "- 探索特徵分佈和缺失值情況\n",
        "- 為後續建模做準備\n",
        "\n",
        "## 📊 數據概覽\n",
        "本項目使用 IEEE-CIS 詐騙檢測競賽數據集，包含真實的電子商務交易數據。\n"
      ]
    },
    {
      "cell_type": "code",
      "execution_count": null,
      "metadata": {},
      "outputs": [],
      "source": [
        "# 導入必要的庫\n",
        "import pandas as pd\n",
        "import numpy as np\n",
        "import matplotlib.pyplot as plt\n",
        "import seaborn as sns\n",
        "import warnings\n",
        "warnings.filterwarnings('ignore')\n",
        "\n",
        "# 設置視覺化樣式\n",
        "plt.style.use('default')\n",
        "sns.set_palette('husl')\n",
        "plt.rcParams['figure.figsize'] = (12, 8)\n",
        "\n",
        "# 顯示設置\n",
        "pd.set_option('display.max_columns', 100)\n",
        "pd.set_option('display.max_rows', 50)\n",
        "\n",
        "print(\"✅ 所有庫已成功導入！\")\n"
      ]
    },
    {
      "cell_type": "code",
      "execution_count": null,
      "metadata": {},
      "outputs": [],
      "source": [
        "# 載入數據\n",
        "print(\"🔄 載入交易數據...\")\n",
        "train_transaction = pd.read_csv('train_transaction.csv')\n",
        "print(f\"✅ 交易數據載入完成: {train_transaction.shape}\")\n",
        "\n",
        "print(\"\\n🔄 載入身份數據...\")\n",
        "train_identity = pd.read_csv('train_identity.csv')\n",
        "print(f\"✅ 身份數據載入完成: {train_identity.shape}\")\n",
        "\n",
        "# 合併數據\n",
        "print(\"\\n🔄 合併數據...\")\n",
        "df = train_transaction.merge(train_identity, on='TransactionID', how='left')\n",
        "print(f\"✅ 合併完成: {df.shape}\")\n",
        "\n",
        "# 基本統計信息\n",
        "fraud_count = df['isFraud'].sum()\n",
        "total_count = len(df)\n",
        "fraud_rate = fraud_count / total_count\n",
        "\n",
        "print(f\"\\n🎯 目標變數分析:\")\n",
        "print(f\"總交易數: {total_count:,}\")\n",
        "print(f\"詐騙交易: {fraud_count:,}\")\n",
        "print(f\"正常交易: {total_count - fraud_count:,}\")\n",
        "print(f\"詐騙比例: {fraud_rate:.4f} ({fraud_rate*100:.2f}%)\")\n",
        "\n",
        "# 顯示前幾行數據\n",
        "print(f\"\\n📋 數據預覽:\")\n",
        "df.head()\n"
      ]
    },
    {
      "cell_type": "code",
      "execution_count": null,
      "metadata": {},
      "outputs": [],
      "source": [
        "# 視覺化目標變數分佈\n",
        "fig, (ax1, ax2) = plt.subplots(1, 2, figsize=(15, 6))\n",
        "\n",
        "# 長條圖\n",
        "df['isFraud'].value_counts().plot(kind='bar', ax=ax1, color=['skyblue', 'orange'])\n",
        "ax1.set_title('詐騙 vs 正常交易分佈', fontsize=14, fontweight='bold')\n",
        "ax1.set_xlabel('交易類型')\n",
        "ax1.set_ylabel('交易數量')\n",
        "ax1.set_xticklabels(['正常交易', '詐騙交易'], rotation=0)\n",
        "\n",
        "# 圓餅圖\n",
        "labels = ['正常交易', '詐騙交易']\n",
        "sizes = [total_count - fraud_count, fraud_count]\n",
        "colors = ['skyblue', 'orange']\n",
        "ax2.pie(sizes, labels=labels, colors=colors, autopct='%1.2f%%', startangle=90)\n",
        "ax2.set_title('交易類型比例', fontsize=14, fontweight='bold')\n",
        "\n",
        "plt.tight_layout()\n",
        "plt.show()\n",
        "\n",
        "print(f\"💡 觀察: 這是一個高度不平衡的數據集，詐騙交易只佔 {fraud_rate*100:.2f}%\")\n"
      ]
    },
    {
      "cell_type": "code",
      "execution_count": null,
      "metadata": {},
      "outputs": [],
      "source": [
        "# 缺失值分析\n",
        "print(\"🔍 缺失值分析:\")\n",
        "missing_data = df.isnull().sum()\n",
        "missing_percent = (missing_data / len(df)) * 100\n",
        "missing_table = pd.DataFrame({\n",
        "    '缺失數量': missing_data,\n",
        "    '缺失百分比': missing_percent\n",
        "})\n",
        "missing_table = missing_table[missing_table['缺失數量'] > 0].sort_values('缺失數量', ascending=False)\n",
        "\n",
        "print(f\"總特徵數: {df.shape[1]}\")\n",
        "print(f\"有缺失值的特徵數: {len(missing_table)}\")\n",
        "print(f\"完全缺失的特徵數: {len(missing_table[missing_table['缺失百分比'] == 100])}\")\n",
        "\n",
        "# 顯示缺失最嚴重的前20個特徵\n",
        "print(f\"\\n📊 缺失值最多的前20個特徵:\")\n",
        "missing_table.head(20)\n"
      ]
    },
    {
      "cell_type": "code",
      "execution_count": null,
      "metadata": {},
      "outputs": [],
      "source": [
        "# 交易金額分析\n",
        "print(\"💰 交易金額 (TransactionAmt) 分析:\")\n",
        "print(f\"最小金額: ${df['TransactionAmt'].min():.2f}\")\n",
        "print(f\"最大金額: ${df['TransactionAmt'].max():,.2f}\")\n",
        "print(f\"平均金額: ${df['TransactionAmt'].mean():.2f}\")\n",
        "print(f\"中位數金額: ${df['TransactionAmt'].median():.2f}\")\n",
        "\n",
        "# 按詐騙類型分析交易金額\n",
        "print(f\"\\n📊 按詐騙類型的交易金額分析:\")\n",
        "fraud_amount_stats = df.groupby('isFraud')['TransactionAmt'].agg(['count', 'mean', 'median', 'std'])\n",
        "fraud_amount_stats.index = ['正常交易', '詐騙交易']\n",
        "fraud_amount_stats.columns = ['交易數量', '平均金額', '中位數金額', '標準差']\n",
        "fraud_amount_stats\n"
      ]
    },
    {
      "cell_type": "raw",
      "metadata": {
        "vscode": {
          "languageId": "raw"
        }
      },
      "source": [
        "## 🎯 數據探索總結\n",
        "\n",
        "### ✅ 已完成的分析\n",
        "1. ✅ **數據載入和合併** - 成功載入交易和身份數據\n",
        "2. ✅ **基本統計信息** - 了解數據規模和結構  \n",
        "3. ✅ **目標變數分析** - 發現高度不平衡的分類問題\n",
        "4. ✅ **缺失值檢查** - 識別需要處理的高缺失率特徵\n",
        "5. ✅ **交易金額分析** - 理解詐騙與正常交易的金額差異\n",
        "\n",
        "### 🔍 主要發現\n",
        "- **數據規模**: 約 59 萬筆交易記錄，400+ 個特徵\n",
        "- **不平衡問題**: 詐騙交易僅佔約 3.5%，需要特殊處理策略\n",
        "- **缺失值**: 大量特徵存在缺失值，需要仔細的數據清理\n",
        "- **交易金額**: 詐騙交易與正常交易在金額分佈上可能存在差異\n",
        "\n",
        "### 🔄 下一步計劃\n",
        "1. 🔄 **特徵工程** - 時間特徵、聚合特徵、交互特徵\n",
        "2. 🔄 **數據預處理** - 缺失值處理、特徵編碼、標準化\n",
        "3. 🔄 **模型建立** - 嘗試多種機器學習算法\n",
        "4. 🔄 **不平衡處理** - SMOTE、權重調整等技術\n",
        "5. 🔄 **模型評估** - ROC-AUC、精確率-召回率等指標\n",
        "\n",
        "---\n",
        "**🎉 數據探索完成！準備進入特徵工程階段。**\n"
      ]
    },
    {
      "cell_type": "raw",
      "metadata": {
        "vscode": {
          "languageId": "raw"
        }
      },
      "source": [
        "# IEEE-CIS 詐騙檢測 - 數據探索\n",
        "\n",
        "## 🎯 目標\n",
        "- 載入和檢查數據基本信息\n",
        "- 分析目標變數分佈\n",
        "- 探索特徵分佈和缺失值情況  \n",
        "- 視覺化關鍵特徵\n",
        "\n",
        "## 📊 數據文件\n",
        "- **train_transaction.csv** (652MB) - 訓練交易數據\n",
        "- **train_identity.csv** (25MB) - 訓練身份數據\n",
        "- **test_transaction.csv** (585MB) - 測試交易數據\n",
        "- **test_identity.csv** (25MB) - 測試身份數據\n",
        "\n",
        "---\n",
        "*開始您的數據科學探索之旅！*\n"
      ]
    },
    {
      "cell_type": "code",
      "execution_count": null,
      "metadata": {},
      "outputs": [],
      "source": [
        "# 導入必要的庫\n",
        "import pandas as pd\n",
        "import numpy as np\n",
        "import matplotlib.pyplot as plt\n",
        "import seaborn as sns\n",
        "from tqdm import tqdm\n",
        "import warnings\n",
        "warnings.filterwarnings('ignore')\n",
        "\n",
        "# 設置視覺化樣式\n",
        "plt.style.use('default')\n",
        "sns.set_palette('husl')\n",
        "plt.rcParams['figure.figsize'] = (12, 8)\n",
        "\n",
        "# 顯示設置\n",
        "pd.set_option('display.max_columns', 100)\n",
        "pd.set_option('display.max_rows', 50)\n",
        "\n",
        "print(\"✅ 所有庫已成功導入！\")\n"
      ]
    },
    {
      "cell_type": "code",
      "execution_count": null,
      "metadata": {},
      "outputs": [],
      "source": [
        "# 載入訓練數據\n",
        "print(\"🔄 載入交易數據...\")\n",
        "train_transaction = pd.read_csv('train_transaction.csv')\n",
        "print(f\"✅ 交易數據載入完成: {train_transaction.shape}\")\n",
        "\n",
        "print(\"\\n🔄 載入身份數據...\")\n",
        "train_identity = pd.read_csv('train_identity.csv')\n",
        "print(f\"✅ 身份數據載入完成: {train_identity.shape}\")\n",
        "\n",
        "# 顯示基本信息\n",
        "print(f\"\\n📊 數據概覽:\")\n",
        "print(f\"交易數據: {train_transaction.shape[0]:,} 筆交易, {train_transaction.shape[1]} 個特徵\")\n",
        "print(f\"身份數據: {train_identity.shape[0]:,} 筆記錄, {train_identity.shape[1]} 個特徵\")\n"
      ]
    },
    {
      "cell_type": "code",
      "execution_count": null,
      "metadata": {},
      "outputs": [],
      "source": [
        "# 合併交易和身份數據\n",
        "print(\"🔄 合併數據...\")\n",
        "train_df = train_transaction.merge(train_identity, on='TransactionID', how='left')\n",
        "print(f\"✅ 合併完成: {train_df.shape}\")\n",
        "\n",
        "# 檢查目標變數\n",
        "fraud_count = train_df['isFraud'].sum()\n",
        "total_count = len(train_df)\n",
        "fraud_rate = fraud_count / total_count\n",
        "\n",
        "print(f\"\\n🎯 目標變數分析:\")\n",
        "print(f\"總交易數: {total_count:,}\")\n",
        "print(f\"詐騙交易: {fraud_count:,}\")\n",
        "print(f\"正常交易: {total_count - fraud_count:,}\")\n",
        "print(f\"詐騙比例: {fraud_rate:.4f} ({fraud_rate*100:.2f}%)\")\n",
        "\n",
        "# 顯示前幾行數據\n",
        "print(f\"\\n📋 數據預覽:\")\n",
        "display(train_df.head())\n"
      ]
    },
    {
      "cell_type": "code",
      "execution_count": null,
      "metadata": {},
      "outputs": [],
      "source": [
        "# 視覺化目標變數分佈\n",
        "fig, (ax1, ax2) = plt.subplots(1, 2, figsize=(15, 6))\n",
        "\n",
        "# 長條圖\n",
        "train_df['isFraud'].value_counts().plot(kind='bar', ax=ax1, color=['skyblue', 'orange'])\n",
        "ax1.set_title('詐騙 vs 正常交易分佈', fontsize=14, fontweight='bold')\n",
        "ax1.set_xlabel('交易類型')\n",
        "ax1.set_ylabel('交易數量')\n",
        "ax1.set_xticklabels(['正常交易', '詐騙交易'], rotation=0)\n",
        "\n",
        "# 圓餅圖\n",
        "labels = ['正常交易', '詐騙交易']\n",
        "sizes = [total_count - fraud_count, fraud_count]\n",
        "colors = ['skyblue', 'orange']\n",
        "ax2.pie(sizes, labels=labels, colors=colors, autopct='%1.2f%%', startangle=90)\n",
        "ax2.set_title('交易類型比例', fontsize=14, fontweight='bold')\n",
        "\n",
        "plt.tight_layout()\n",
        "plt.show()\n",
        "\n",
        "print(f\"💡 觀察: 這是一個高度不平衡的數據集，詐騙交易只佔 {fraud_rate*100:.2f}%\")\n"
      ]
    },
    {
      "cell_type": "code",
      "execution_count": null,
      "metadata": {},
      "outputs": [],
      "source": [
        "# 缺失值分析\n",
        "print(\"🔍 缺失值分析:\")\n",
        "missing_data = train_df.isnull().sum()\n",
        "missing_percent = (missing_data / len(train_df)) * 100\n",
        "missing_table = pd.DataFrame({\n",
        "    '缺失數量': missing_data,\n",
        "    '缺失百分比': missing_percent\n",
        "})\n",
        "missing_table = missing_table[missing_table['缺失數量'] > 0].sort_values('缺失數量', ascending=False)\n",
        "\n",
        "print(f\"總特徵數: {train_df.shape[1]}\")\n",
        "print(f\"有缺失值的特徵數: {len(missing_table)}\")\n",
        "print(f\"完全缺失的特徵數: {len(missing_table[missing_table['缺失百分比'] == 100])}\")\n",
        "\n",
        "# 顯示缺失最嚴重的前20個特徵\n",
        "print(f\"\\n📊 缺失值最多的前20個特徵:\")\n",
        "display(missing_table.head(20))\n"
      ]
    },
    {
      "cell_type": "raw",
      "metadata": {
        "vscode": {
          "languageId": "raw"
        }
      },
      "source": [
        "## 🎯 下一步行動計劃\n",
        "\n",
        "### ✅ 已完成\n",
        "1. ✅ 載入和合併數據\n",
        "2. ✅ 基本統計信息\n",
        "3. ✅ 目標變數分析\n",
        "4. ✅ 缺失值檢查\n",
        "5. ✅ 數據分佈視覺化\n",
        "\n",
        "### 🔄 待完成任務\n",
        "1. [ ] **特徵類型分析** - 數值型 vs 類別型特徵\n",
        "2. [ ] **交易金額分析** - TransactionAmt 分佈和異常值\n",
        "3. [ ] **時間特徵分析** - TransactionDT 時間模式\n",
        "4. [ ] **產品特徵探索** - ProductCD, card 系列特徵\n",
        "5. [ ] **地理特徵分析** - addr1, addr2 分佈\n",
        "6. [ ] **設備特徵探索** - DeviceType, DeviceInfo\n",
        "7. [ ] **特徵工程準備** - 識別可用於模型的特徵\n",
        "\n",
        "### 💡 初步觀察\n",
        "- 這是一個**高度不平衡**的分類問題\n",
        "- 需要適當的**不平衡處理策略**\n",
        "- **大量缺失值**需要仔細處理\n",
        "- 可能需要**特徵選擇**來處理高維數據\n",
        "\n",
        "---\n",
        "*繼續探索更深入的特徵分析！*\n"
      ]
    }
  ],
  "metadata": {
    "language_info": {
      "name": "python"
    }
  },
  "nbformat": 4,
  "nbformat_minor": 2
}
