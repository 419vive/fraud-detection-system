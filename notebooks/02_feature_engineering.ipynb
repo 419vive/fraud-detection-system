{
  "cells": [
    {
      "cell_type": "raw",
      "metadata": {
        "vscode": {
          "languageId": "raw"
        }
      },
      "source": [
        "# IEEE-CIS 詐騙檢測 - 特徵工程\n",
        "\n",
        "## 🎯 本階段目標\n",
        "- 基於探索性分析結果進行特徵工程\n",
        "- 處理缺失值和異常值\n",
        "- 創建新的衍生特徵\n",
        "- 特徵選擇和降維\n",
        "- 準備建模數據\n",
        "\n",
        "## 📚 特徵工程策略\n",
        "1. **時間特徵**: 從 TransactionDT 提取時間模式\n",
        "2. **聚合特徵**: 基於用戶行為的統計特徵\n",
        "3. **交互特徵**: 重要特徵間的交互作用\n",
        "4. **類別編碼**: 高基數類別特徵的處理\n",
        "5. **缺失值處理**: 智能填補策略\n",
        "\n",
        "---\n",
        "*Advanced Feature Engineering for Fraud Detection*\n"
      ]
    }
  ],
  "metadata": {
    "kernelspec": {
      "display_name": ".venv",
      "language": "python",
      "name": "python3"
    },
    "language_info": {
      "codemirror_mode": {
        "name": "ipython",
        "version": 3
      },
      "file_extension": ".py",
      "mimetype": "text/x-python",
      "name": "python",
      "nbconvert_exporter": "python",
      "pygments_lexer": "ipython3",
      "version": "3.11.11"
    }
  },
  "nbformat": 4,
  "nbformat_minor": 2
}
