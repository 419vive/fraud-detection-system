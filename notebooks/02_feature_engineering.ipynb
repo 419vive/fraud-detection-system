{
 "cells": [
  {
   "cell_type": "markdown",
   "source": "## 🎯 特徵工程總結與下一步\n\n### ✅ 已完成的特徵工程\n\n1. **時間特徵** ⏰\n   - 從 TransactionDT 提取小時、星期、週末標識\n   - 時間段分類（夜晚、早晨、下午、晚上）\n   - 發現詐騙交易的時間模式\n\n2. **交易金額特徵** 💰\n   - 對數和平方根變換處理偏斜分佈\n   - 金額範圍分組（小額、中額、大額等）\n   - 整數金額和常見金額標識\n   - 不同金額範圍的詐騙風險分析\n\n3. **聚合特徵** 📊\n   - 基於卡片的歷史交易統計\n   - 基於地址的行為聚合\n   - 用戶歷史詐騙率和交易模式\n\n### 🔍 主要發現\n\n- **時間模式**: 特定時段的詐騙風險較高\n- **金額特徵**: 不同金額範圍呈現不同的詐騙風險\n- **聚合統計**: 歷史行為是強有力的詐騙指標\n- **特徵相關性**: 新創建的特徵與詐騙標籤有顯著相關性\n\n### 🔄 建議的下一步\n\n1. **特徵選擇** 🎯\n   - 使用統計方法篩選最重要特徵\n   - 移除高相關性和低方差特徵\n   - 基於業務邏輯驗證特徵有效性\n\n2. **數據預處理** 🛠️\n   - 處理缺失值和異常值\n   - 特徵標準化和正規化\n   - 類別不平衡處理（SMOTE等）\n\n3. **模型訓練** 🤖\n   - 嘗試多種機器學習算法\n   - 超參數調優和交叉驗證\n   - 模型融合和集成學習\n\n4. **模型評估** 📈\n   - ROC-AUC、PR-AUC等關鍵指標\n   - 業務指標評估（精確率、召回率）\n   - 模型可解釋性分析\n\n---\n\n**✨ 特徵工程階段完成！數據已準備好進入建模階段。**",
   "metadata": {}
  },
  {
   "cell_type": "code",
   "source": "# 3. 聚合特徵工程\nprint(\"📊 創建聚合特徵...\")\n\ntry:\n    # 創建基於卡片的聚合特徵\n    df_with_card = feature_engineer.create_card_based_features(df_with_amount)\n    print(\"✅ 卡片聚合特徵創建完成\")\n    \n    # 創建基於地址的聚合特徵  \n    df_with_addr = feature_engineer.create_address_based_features(df_with_card)\n    print(\"✅ 地址聚合特徵創建完成\")\n    \n    # 統計新增特徵數量\n    original_features = df.shape[1]\n    final_features = df_with_addr.shape[1]\n    new_features_count = final_features - original_features\n    \n    print(f\"📈 特徵工程總結:\")\n    print(f\"- 原始特徵數: {original_features}\")\n    print(f\"- 最終特徵數: {final_features}\")\n    print(f\"- 新增特徵數: {new_features_count}\")\n    \n    # 特徵重要性分析（簡單相關性）\n    print(f\"\\n🔍 分析新特徵與詐騙的相關性...\")\n    \n    # 獲取數值型特徵\n    numeric_features = df_with_addr.select_dtypes(include=[np.number]).columns\n    target_correlations = df_with_addr[numeric_features].corrwith(df_with_addr['isFraud']).abs().sort_values(ascending=False)\n    \n    # 顯示前15個最相關的特徵\n    print(f\"\\n📊 與詐騙最相關的前15個特徵:\")\n    display(target_correlations.head(15).to_frame('相關性'))\n    \n    # 視覺化特徵相關性\n    plt.figure(figsize=(12, 8))\n    top_features = target_correlations.head(20)\n    plt.barh(range(len(top_features)), top_features.values)\n    plt.yticks(range(len(top_features)), top_features.index)\n    plt.xlabel('與詐騙的絕對相關性')\n    plt.title('Top 20 特徵與詐騙相關性')\n    plt.gca().invert_yaxis()\n    plt.tight_layout()\n    plt.show()\n    \n    # 保存處理後的數據\n    df_final = df_with_addr\n    print(f\"\\n💾 特徵工程完成，最終數據形狀: {df_final.shape}\")\n    \nexcept Exception as e:\n    print(f\"❌ 聚合特徵創建失敗: {e}\")\n    df_final = df_with_amount  # 使用前一步的結果",
   "metadata": {},
   "execution_count": null,
   "outputs": []
  },
  {
   "cell_type": "code",
   "source": "# 2. 交易金額特徵工程\nprint(\"💰 創建交易金額特徵...\")\n\ntry:\n    # 創建交易金額特徵\n    df_with_amount = feature_engineer.create_transaction_amount_features(df_with_time)\n    \n    # 檢查新增的金額特徵\n    amount_features = ['TransactionAmt_log', 'TransactionAmt_sqrt', 'amt_range', 'is_round_amount', 'is_common_amount']\n    print(f\"✅ 交易金額特徵創建成功，新增 {len(amount_features)} 個特徵\")\n    \n    # 視覺化金額特徵分佈\n    fig, axes = plt.subplots(2, 2, figsize=(15, 10))\n    \n    # 原始金額分佈\n    axes[0,0].hist(df_with_amount['TransactionAmt'], bins=50, alpha=0.7)\n    axes[0,0].set_title('交易金額分佈（原始）')\n    axes[0,0].set_xlabel('交易金額')\n    axes[0,0].set_ylabel('頻率')\n    axes[0,0].set_yscale('log')\n    \n    # 對數變換後分佈\n    axes[0,1].hist(df_with_amount['TransactionAmt_log'], bins=50, alpha=0.7, color='orange')\n    axes[0,1].set_title('交易金額分佈（對數變換）')\n    axes[0,1].set_xlabel('log(交易金額+1)')\n    axes[0,1].set_ylabel('頻率')\n    \n    # 金額範圍詐騙率\n    amount_fraud = df_with_amount.groupby('amt_range')['isFraud'].agg(['count', 'mean']).reset_index()\n    axes[1,0].bar(range(len(amount_fraud)), amount_fraud['mean'])\n    axes[1,0].set_title('不同金額範圍的詐騙率')\n    axes[1,0].set_xlabel('金額範圍')\n    axes[1,0].set_ylabel('詐騙率')\n    axes[1,0].set_xticks(range(len(amount_fraud)))\n    axes[1,0].set_xticklabels(amount_fraud['amt_range'], rotation=45)\n    \n    # 整數金額 vs 詐騙率\n    round_amount_fraud = df_with_amount.groupby('is_round_amount')['isFraud'].mean()\n    axes[1,1].bar(['非整數', '整數'], round_amount_fraud.values)\n    axes[1,1].set_title('整數金額 vs 詐騙率')\n    axes[1,1].set_ylabel('詐騙率')\n    \n    plt.tight_layout()\n    plt.show()\n    \n    print(\"💡 交易金額特徵洞察:\")\n    print(f\"- 平均交易金額: ${df_with_amount['TransactionAmt'].mean():.2f}\")\n    print(f\"- 中位數交易金額: ${df_with_amount['TransactionAmt'].median():.2f}\")\n    print(f\"- 整數金額詐騙率: {round_amount_fraud[1]:.4f}\")\n    print(f\"- 非整數金額詐騙率: {round_amount_fraud[0]:.4f}\")\n    print(f\"- 最高風險金額範圍: {amount_fraud.loc[amount_fraud['mean'].idxmax(), 'amt_range']}\")\n    \nexcept FeatureCreationError as e:\n    print(f\"❌ 交易金額特徵創建失敗: {e.message}\")\nexcept Exception as e:\n    print(f\"❌ 未預期錯誤: {e}\")",
   "metadata": {},
   "execution_count": null,
   "outputs": []
  },
  {
   "cell_type": "code",
   "source": "# 1. 時間特徵工程\nprint(\"🕒 創建時間特徵...\")\n\ntry:\n    # 創建時間特徵\n    df_with_time = feature_engineer.create_time_features(df)\n    \n    # 檢查新增的時間特徵\n    time_features = ['hour', 'day', 'week', 'time_of_day', 'is_weekend']\n    print(f\"✅ 時間特徵創建成功，新增 {len(time_features)} 個特徵\")\n    \n    # 視覺化時間特徵分佈\n    fig, axes = plt.subplots(2, 2, figsize=(15, 10))\n    \n    # 按小時的詐騙率\n    hourly_fraud = df_with_time.groupby('hour')['isFraud'].agg(['count', 'mean']).reset_index()\n    axes[0,0].bar(hourly_fraud['hour'], hourly_fraud['mean'])\n    axes[0,0].set_title('詐騙率按小時分佈')\n    axes[0,0].set_xlabel('小時')\n    axes[0,0].set_ylabel('詐騙率')\n    \n    # 按星期的詐騙率\n    daily_fraud = df_with_time.groupby('day')['isFraud'].agg(['count', 'mean']).reset_index()\n    axes[0,1].bar(daily_fraud['day'], daily_fraud['mean'])\n    axes[0,1].set_title('詐騙率按星期分佈')\n    axes[0,1].set_xlabel('星期')\n    axes[0,1].set_ylabel('詐騙率')\n    \n    # 時間段分佈\n    time_period_counts = df_with_time['time_of_day'].value_counts()\n    axes[1,0].pie(time_period_counts.values, labels=time_period_counts.index, autopct='%1.1f%%')\n    axes[1,0].set_title('交易時間段分佈')\n    \n    # 週末vs工作日\n    weekend_fraud = df_with_time.groupby('is_weekend')['isFraud'].mean()\n    axes[1,1].bar(['工作日', '週末'], weekend_fraud.values)\n    axes[1,1].set_title('詐騙率：週末 vs 工作日')\n    axes[1,1].set_ylabel('詐騙率')\n    \n    plt.tight_layout()\n    plt.show()\n    \n    print(\"💡 時間特徵洞察:\")\n    print(f\"- 平均每小時詐騙率: {hourly_fraud['mean'].mean():.4f}\")\n    print(f\"- 最高風險時段: {hourly_fraud.loc[hourly_fraud['mean'].idxmax(), 'hour']}時\")\n    print(f\"- 週末詐騙率: {weekend_fraud[1]:.4f}\")\n    print(f\"- 工作日詐騙率: {weekend_fraud[0]:.4f}\")\n    \nexcept FeatureCreationError as e:\n    print(f\"❌ 時間特徵創建失敗: {e.message}\")\nexcept Exception as e:\n    print(f\"❌ 未預期錯誤: {e}\")",
   "metadata": {},
   "execution_count": null,
   "outputs": []
  },
  {
   "cell_type": "code",
   "source": "# 載入和準備數據\nprint(\"🔄 載入數據...\")\n\n# 初始化數據處理器和特徵工程器\ndata_processor = DataProcessor()\nfeature_engineer = FeatureEngineer()\nconfig = get_config()\n\ntry:\n    # 載入訓練數據\n    df = data_processor.load_data('../train_transaction.csv', '../train_identity.csv')\n    print(f\"✅ 數據載入成功: {df.shape}\")\n    \n    # 基本數據檢查\n    print(f\"\\n📊 數據概覽:\")\n    print(f\"總交易數: {len(df):,}\")\n    print(f\"詐騙交易: {df['isFraud'].sum():,}\")\n    print(f\"詐騙率: {df['isFraud'].mean():.4f}\")\n    print(f\"特徵數: {df.shape[1]}\")\n    \nexcept Exception as e:\n    print(f\"❌ 數據載入失敗: {e}\")\n    # 如果無法載入，創建示例數據進行演示\n    df = pd.DataFrame({\n        'TransactionID': range(1000),\n        'TransactionDT': np.random.randint(86400, 86400*30, 1000),\n        'TransactionAmt': np.random.lognormal(3, 1, 1000),\n        'isFraud': np.random.choice([0, 1], 1000, p=[0.965, 0.035]),\n        'card1': np.random.randint(1000, 20000, 1000),\n        'addr1': np.random.randint(100, 500, 1000)\n    })\n    print(f\"⚠️ 使用示例數據進行演示: {df.shape}\")\n\n# 顯示數據前幾行\ndisplay(df.head())",
   "metadata": {},
   "execution_count": null,
   "outputs": []
  },
  {
   "cell_type": "raw",
   "metadata": {
    "vscode": {
     "languageId": "raw"
    }
   },
   "source": [
    "# IEEE-CIS 詐騙檢測 - 特徵工程\n",
    "\n",
    "## 🎯 本階段目標\n",
    "- 基於探索性分析結果進行特徵工程\n",
    "- 處理缺失值和異常值\n",
    "- 創建新的衍生特徵\n",
    "- 特徵選擇和降維\n",
    "- 準備建模數據\n",
    "\n",
    "## 📚 特徵工程策略\n",
    "1. **時間特徵**: 從 TransactionDT 提取時間模式\n",
    "2. **聚合特徵**: 基於用戶行為的統計特徵\n",
    "3. **交互特徵**: 重要特徵間的交互作用\n",
    "4. **類別編碼**: 高基數類別特徵的處理\n",
    "5. **缺失值處理**: 智能填補策略\n",
    "\n",
    "---\n",
    "*Advanced Feature Engineering for Fraud Detection*\n"
   ]
  },
  {
   "cell_type": "code",
   "source": "# 導入必要的庫和模組\nimport pandas as pd\nimport numpy as np\nimport matplotlib.pyplot as plt\nimport seaborn as sns\nfrom tqdm import tqdm\nimport sys\nimport os\n\n# 添加src目錄到路徑\nsys.path.append('../src')\n\n# 導入自定義模組\nfrom feature_engineering import FeatureEngineer\nfrom data_processing import DataProcessor\nfrom config import get_config\nfrom exceptions import FeatureEngineeringError, FeatureCreationError\n\nimport warnings\nwarnings.filterwarnings('ignore')\n\n# 設置視覺化\nplt.style.use('default')\nsns.set_palette('husl')\nplt.rcParams['figure.figsize'] = (12, 8)\npd.set_option('display.max_columns', 100)\n\nprint(\"✅ 所有庫和模組已成功導入！\")",
   "metadata": {},
   "execution_count": null,
   "outputs": []
  }
 ],
 "metadata": {
  "kernelspec": {
   "display_name": ".venv",
   "language": "python",
   "name": "python3"
  },
  "language_info": {
   "codemirror_mode": {
    "name": "ipython",
    "version": 3
   },
   "file_extension": ".py",
   "mimetype": "text/x-python",
   "name": "python",
   "nbconvert_exporter": "python",
   "pygments_lexer": "ipython3",
   "version": "3.11.11"
  }
 },
 "nbformat": 4,
 "nbformat_minor": 2
}